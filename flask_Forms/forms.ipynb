{
 "cells": [
  {
   "cell_type": "code",
   "execution_count": 1,
   "metadata": {},
   "outputs": [],
   "source": [
    "from flask import Flask, request, render_template"
   ]
  },
  {
   "cell_type": "code",
   "execution_count": 2,
   "metadata": {},
   "outputs": [],
   "source": [
    "app = Flask(\"Hello\")"
   ]
  },
  {
   "cell_type": "code",
   "execution_count": 3,
   "metadata": {},
   "outputs": [],
   "source": [
    "@app.route(\"/\")\n",
    "def home():\n",
    "    return \"Yaay this app is working\"\n",
    "\n",
    "@app.route(\"/forms/\")\n",
    "def forms():\n",
    "    return render_template(\"index.txt\")\n",
    "\n",
    "@app.route(\"/submit/\", methods=[\"post\"])\n",
    "def submit():\n",
    "    \n",
    "    user = request.form.get(\"id\")\n",
    "    auth = request.form.get(\"password\")\n",
    "    \n",
    "    return \"user id is {} and password is {}\".format(user, auth)"
   ]
  },
  {
   "cell_type": "code",
   "execution_count": null,
   "metadata": {},
   "outputs": [
    {
     "name": "stdout",
     "output_type": "stream",
     "text": [
      " * Serving Flask app \"Hello\" (lazy loading)\n",
      " * Environment: production\n",
      "   WARNING: Do not use the development server in a production environment.\n",
      "   Use a production WSGI server instead.\n",
      " * Debug mode: off\n"
     ]
    },
    {
     "name": "stderr",
     "output_type": "stream",
     "text": [
      " * Running on http://127.0.0.1:5000/ (Press CTRL+C to quit)\n",
      "127.0.0.1 - - [05/Apr/2020 12:29:22] \"GET /forms/ HTTP/1.1\" 200 -\n",
      "127.0.0.1 - - [05/Apr/2020 12:29:39] \"POST /submit/ HTTP/1.1\" 200 -\n",
      "127.0.0.1 - - [05/Apr/2020 12:30:30] \"GET /forms/ HTTP/1.1\" 200 -\n",
      "127.0.0.1 - - [05/Apr/2020 12:31:11] \"POST /submit/ HTTP/1.1\" 200 -\n",
      "127.0.0.1 - - [05/Apr/2020 12:32:04] \"GET /forms/ HTTP/1.1\" 200 -\n",
      "127.0.0.1 - - [05/Apr/2020 12:33:34] \"GET /forms/ HTTP/1.1\" 200 -\n",
      "127.0.0.1 - - [05/Apr/2020 12:33:46] \"GET /forms/ HTTP/1.1\" 200 -\n"
     ]
    }
   ],
   "source": [
    "app.run()"
   ]
  },
  {
   "cell_type": "code",
   "execution_count": null,
   "metadata": {},
   "outputs": [],
   "source": []
  },
  {
   "cell_type": "code",
   "execution_count": null,
   "metadata": {},
   "outputs": [],
   "source": []
  }
 ],
 "metadata": {
  "kernelspec": {
   "display_name": "Python 3",
   "language": "python",
   "name": "python3"
  },
  "language_info": {
   "codemirror_mode": {
    "name": "ipython",
    "version": 3
   },
   "file_extension": ".py",
   "mimetype": "text/x-python",
   "name": "python",
   "nbconvert_exporter": "python",
   "pygments_lexer": "ipython3",
   "version": "3.7.1"
  }
 },
 "nbformat": 4,
 "nbformat_minor": 2
}
