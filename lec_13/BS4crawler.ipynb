{
 "cells": [
  {
   "cell_type": "code",
   "execution_count": 11,
   "metadata": {},
   "outputs": [],
   "source": [
    "from bs4 import BeautifulSoup\n",
    "import requests\n",
    "import time"
   ]
  },
  {
   "cell_type": "code",
   "execution_count": 2,
   "metadata": {},
   "outputs": [],
   "source": [
    "page = 2"
   ]
  },
  {
   "cell_type": "code",
   "execution_count": 3,
   "metadata": {},
   "outputs": [],
   "source": [
    "url = \"https://www.passiton.com/inspirational-quotes?page={}\".format(page)"
   ]
  },
  {
   "cell_type": "code",
   "execution_count": 6,
   "metadata": {},
   "outputs": [],
   "source": [
    "data = requests.get(\"https://assets.passiton.com/quotes/quote_artwork/6601/original/20200207_friday_quote.jpg?1580502545\")"
   ]
  },
  {
   "cell_type": "code",
   "execution_count": 5,
   "metadata": {},
   "outputs": [],
   "source": [
    "with open(\"live_life.jpeg\", \"wb\") as image:\n",
    "    image.write(data.content)"
   ]
  },
  {
   "cell_type": "code",
   "execution_count": 4,
   "metadata": {},
   "outputs": [],
   "source": [
    "data = requests.get(url)"
   ]
  },
  {
   "cell_type": "code",
   "execution_count": 5,
   "metadata": {},
   "outputs": [],
   "source": [
    "soup = BeautifulSoup(data.text)"
   ]
  },
  {
   "cell_type": "code",
   "execution_count": 6,
   "metadata": {},
   "outputs": [],
   "source": [
    "# data.text"
   ]
  },
  {
   "cell_type": "code",
   "execution_count": 7,
   "metadata": {},
   "outputs": [
    {
     "data": {
      "text/plain": [
       "'/assets/pofo/logo-6d680decaadef58e4fbb586e147bc135.png'"
      ]
     },
     "execution_count": 7,
     "metadata": {},
     "output_type": "execute_result"
    }
   ],
   "source": [
    "soup.img['src']"
   ]
  },
  {
   "cell_type": "code",
   "execution_count": 8,
   "metadata": {},
   "outputs": [],
   "source": [
    "allimages = soup.find_all('img')"
   ]
  },
  {
   "cell_type": "code",
   "execution_count": 9,
   "metadata": {},
   "outputs": [],
   "source": [
    "# count = 1\n",
    "\n",
    "# for i in allimages:\n",
    "#     img_link = i['src']    \n",
    "#     if img_link.find(\"https\") == -1:\n",
    "#         continue\n",
    "#     else:\n",
    "#         print(img_link)\n",
    "        \n",
    "#         data = requests.get(img_link)\n",
    "#         with open(\"{}.jpeg\".format(count), \"wb\") as f:\n",
    "#             f.write(data.content)\n",
    "#         count += 1"
   ]
  },
  {
   "cell_type": "code",
   "execution_count": 10,
   "metadata": {},
   "outputs": [
    {
     "name": "stdout",
     "output_type": "stream",
     "text": [
      "https://assets.passiton.com/quotes/quote_artwork/6768/medium/20200217_monday_quote.jpg?1581786294\n",
      "https://assets.passiton.com/quotes/quote_artwork/6256/medium/20200210_monday_quote.jpg?1581026741\n",
      "https://assets.passiton.com/quotes/quote_artwork/6820/medium/20200203_monday_quote.jpg?1580502381\n",
      "https://assets.passiton.com/quotes/quote_artwork/6128/medium/20200127_monday_quote_alternate.jpg?1579735012\n",
      "https://assets.passiton.com/quotes/quote_artwork/7244/medium/20200120_monday_quote.jpg?1579379073\n",
      "https://assets.passiton.com/quotes/quote_artwork/3869/medium/20200113_monday_quote.jpg?1578695634\n",
      "https://assets.passiton.com/quotes/quote_artwork/8030/medium/20200106_monday_quote.jpg?1578082072\n"
     ]
    }
   ],
   "source": [
    "count = 1\n",
    "\n",
    "for i in allimages:\n",
    "    img_link = i['src']    \n",
    "    if img_link.find(\"monday\") != -1:\n",
    "        print(img_link)\n",
    "        data = requests.get(img_link)\n",
    "        with open(\"{}.jpeg\".format(count), \"wb\") as f:\n",
    "            f.write(data.content)\n",
    "        count += 1"
   ]
  },
  {
   "cell_type": "code",
   "execution_count": null,
   "metadata": {},
   "outputs": [],
   "source": []
  }
 ],
 "metadata": {
  "kernelspec": {
   "display_name": "Python 3",
   "language": "python",
   "name": "python3"
  },
  "language_info": {
   "codemirror_mode": {
    "name": "ipython",
    "version": 3
   },
   "file_extension": ".py",
   "mimetype": "text/x-python",
   "name": "python",
   "nbconvert_exporter": "python",
   "pygments_lexer": "ipython3",
   "version": "3.7.1"
  }
 },
 "nbformat": 4,
 "nbformat_minor": 2
}
